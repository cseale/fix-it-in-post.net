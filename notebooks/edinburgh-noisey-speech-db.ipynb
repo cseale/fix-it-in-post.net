{
 "cells": [
  {
   "cell_type": "markdown",
   "metadata": {},
   "source": [
    "# Noisy speech database for training speech enhancement algorithms and TTS models\n",
    "\n",
    "Data Sourced from: https://datashare.is.ed.ac.uk/handle/10283/2791"
   ]
  },
  {
   "cell_type": "code",
   "execution_count": 18,
   "metadata": {},
   "outputs": [],
   "source": [
    "import sys\n",
    "import time\n",
    "import urllib\n",
    "import os\n",
    "import zipfile\n",
    "\n",
    "DATA_DIR = \"../data/raw/\"\n",
    "FILENAME = \"edinburgh-noisy-speech-db\"\n",
    "FILE_URL = \"http://datashare.is.ed.ac.uk/download/DS_10283_2791.zip\""
   ]
  },
  {
   "cell_type": "markdown",
   "metadata": {},
   "source": [
    "### Download Files\n",
    "\n",
    "Uncomment and only run when needed, it takes a long time to download the data!"
   ]
  },
  {
   "cell_type": "code",
   "execution_count": 17,
   "metadata": {},
   "outputs": [],
   "source": [
    "def reporthook(count, block_size, total_size):\n",
    "    global start_time\n",
    "    if count == 0:\n",
    "        start_time = time.time()\n",
    "        return\n",
    "    duration = time.time() - start_time\n",
    "    progress_size = int(count * block_size)\n",
    "    speed = int(progress_size / (1024 * duration))\n",
    "    percent = int(count * block_size * 100 / total_size)\n",
    "    sys.stdout.write(\"\\r...%d%%, %d MB, %d KB/s, %d seconds passed\" %\n",
    "                    (percent, progress_size / (1024 * 1024), speed, duration))\n",
    "    sys.stdout.flush()\n",
    "\n",
    "f = urllib.request.urlretrieve(FILE_URL, DATA_DIR + FILENAME + \".zip\", reporthook)\n",
    "\n",
    "path = DATA_DIR + FILENAME + \"/\"\n",
    "os.mkdir(DATA_DIR + FILENAME);\n",
    "with zipfile.ZipFile(f[0],\"r\") as zip_ref:\n",
    "    zip_ref.extractall(path)\n",
    "    zip_ref.close()\n",
    "    print(\"... data unzipped\")\n",
    "    \n",
    "\n",
    "os.remove(f[0])\n",
    "print(\"zip file deleted\")\n",
    "\n",
    "# unzip all the data files\n",
    "zipfiles = os.listdir(path)\n",
    "for f in zipfiles:\n",
    "    if f[-4:] == \".zip\":\n",
    "        with zipfile.ZipFile(path + f,\"r\") as zip_ref:\n",
    "            zip_ref.extractall(path)\n",
    "            zip_ref.close()    \n",
    "            print(str(f) + \" unzipped\")\n",
    "            \n",
    "for f in zipfiles:\n",
    "    if f[-4:] == \".zip\":\n",
    "        os.remove(path + f)"
   ]
  },
  {
   "cell_type": "code",
   "execution_count": null,
   "metadata": {},
   "outputs": [],
   "source": []
  }
 ],
 "metadata": {
  "kernelspec": {
   "display_name": "Python 3",
   "language": "python",
   "name": "python3"
  },
  "language_info": {
   "codemirror_mode": {
    "name": "ipython",
    "version": 3
   },
   "file_extension": ".py",
   "mimetype": "text/x-python",
   "name": "python",
   "nbconvert_exporter": "python",
   "pygments_lexer": "ipython3",
   "version": "3.7.2"
  }
 },
 "nbformat": 4,
 "nbformat_minor": 2
}
