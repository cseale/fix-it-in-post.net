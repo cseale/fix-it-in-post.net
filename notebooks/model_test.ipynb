{
 "cells": [
  {
   "cell_type": "code",
   "execution_count": 1,
   "metadata": {},
   "outputs": [],
   "source": [
    "import torch\n",
    "import torch.nn as nn\n",
    "import torch.nn.functional as F\n"
   ]
  },
  {
   "cell_type": "markdown",
   "metadata": {},
   "source": [
    "Generate random input data"
   ]
  },
  {
   "cell_type": "code",
   "execution_count": 20,
   "metadata": {},
   "outputs": [
    {
     "name": "stdout",
     "output_type": "stream",
     "text": [
      "torch.Size([5, 1, 129, 8])\n",
      "tensor([[[0.3449, 0.7370, 0.2471,  ..., 0.5792, 0.5624, 0.3328],\n",
      "         [0.9019, 0.5994, 0.0437,  ..., 0.4856, 0.6751, 0.1265],\n",
      "         [0.2022, 0.9487, 0.5585,  ..., 0.7653, 0.8653, 0.8247],\n",
      "         ...,\n",
      "         [0.2956, 0.5379, 0.4725,  ..., 0.1908, 0.1840, 0.6513],\n",
      "         [0.8690, 0.9834, 0.8975,  ..., 0.5374, 0.8615, 0.3001],\n",
      "         [0.7637, 0.7652, 0.7060,  ..., 0.2704, 0.6114, 0.8191]]])\n"
     ]
    }
   ],
   "source": [
    "y_fullyCon = torch.rand(5,129, 8)\n",
    "y_conv = torch.rand(5, 1, 129,8) #5 input of dimension 128 by 8\n",
    "\n",
    "print(y_conv.shape)\n",
    "\n",
    "print(y_conv[1])\n"
   ]
  },
  {
   "cell_type": "markdown",
   "metadata": {},
   "source": [
    "Define the architecture for the fully connected model"
   ]
  },
  {
   "cell_type": "code",
   "execution_count": 21,
   "metadata": {},
   "outputs": [],
   "source": [
    "class FullyConnectedBaseline(nn.Module):\n",
    "    def __init__(self, n_features, n_segments):\n",
    "        super(FullyConnectedBaseline, self).__init__()\n",
    "        self.fc1 = nn.Linear(n_features*n_segments, 1024)\n",
    "        self.fc1_bn = nn.BatchNorm1d(1024)\n",
    "        self.fc2 = nn.Linear(1024, 1024)\n",
    "        self.fc2_bn = nn.BatchNorm1d(1024)\n",
    "        self.fc3 = nn.Linear(1024, n_features)\n",
    "\n",
    "    def forward(self, x):\n",
    "        x = F.relu(self.fc1_bn(self.fc1(x)))\n",
    "        x = F.relu(self.fc2_bn(self.fc2(x)))\n",
    "        #x = F.relu(self.fc1(x))\n",
    "        #x = F.relu(self.fc2(x))\n",
    "        x = self.fc3(x)\n",
    "        return x"
   ]
  },
  {
   "cell_type": "markdown",
   "metadata": {},
   "source": [
    "Define the architecture for the convolutional model"
   ]
  },
  {
   "cell_type": "code",
   "execution_count": 22,
   "metadata": {},
   "outputs": [],
   "source": [
    "class ConvolutionalBaseline(nn.Module):\n",
    "    def __init__(self, n_features, n_segments):\n",
    "        super(ConvolutionalBaseline, self).__init__()\n",
    "        self.n_features = n_features\n",
    "        self.n_segments = n_segments\n",
    "        self.conv1 = nn.Conv2d(1, 18, kernel_size=(3,3), padding=(1,1))\n",
    "        self.conv1_bn = nn.BatchNorm2d(18)\n",
    "        self.conv2 = nn.Conv2d(18, 30, kernel_size=(3,3), padding=(1,1))\n",
    "        self.conv2_bn = nn.BatchNorm2d(30)\n",
    "        self.conv3 = nn.Conv2d(30, 40, kernel_size=(3,3), padding=(1,1))\n",
    "        self.conv3_bn = nn.BatchNorm2d(40)\n",
    "        self.fc1 = nn.Linear(40 * n_features * n_segments, 1024)\n",
    "        self.fc1_bn = nn.BatchNorm1d(1024)\n",
    "        self.fc2 = nn.Linear(1024, n_features)\n",
    "\n",
    "    def forward(self, x):\n",
    "        x = F.relu(self.conv1_bn(self.conv1(x)))\n",
    "        x = F.relu(self.conv2_bn(self.conv2(x)))\n",
    "        x = F.relu(self.conv3_bn(self.conv3(x)))\n",
    "        print(x.shape)\n",
    "        x = x.view(x.shape[0], -1)\n",
    "        print(x.shape)\n",
    "        x = F.relu(self.fc1_bn(self.fc1(x)))\n",
    "        x = self.fc2(x)\n",
    "        return x"
   ]
  },
  {
   "cell_type": "code",
   "execution_count": 23,
   "metadata": {},
   "outputs": [
    {
     "name": "stdout",
     "output_type": "stream",
     "text": [
      "torch.Size([5, 40, 129, 8])\n",
      "torch.Size([5, 41280])\n",
      "torch.Size([5, 1, 129, 8])\n",
      "torch.Size([5, 129])\n"
     ]
    }
   ],
   "source": [
    "def init_weights(m):\n",
    "    if type(m) == nn.Linear:\n",
    "        torch.nn.init.xavier_uniform_(m.weight)\n",
    "        m.bias.data.fill_(0.01)\n",
    "\n",
    "\n",
    "model = ConvolutionalBaseline(129, 8)\n",
    "\n",
    "model.apply(init_weights)\n",
    "\n",
    "loss_list = []\n",
    "\n",
    "#x = y.view(5, -1)\n",
    "#print(x)\n",
    "#print(x.shape)\n",
    "result = model.forward(y_conv) \n",
    "\n",
    "print(y_conv.shape)\n",
    "print(result.shape)\n"
   ]
  },
  {
   "cell_type": "code",
   "execution_count": null,
   "metadata": {},
   "outputs": [],
   "source": []
  }
 ],
 "metadata": {
  "kernelspec": {
   "display_name": "Python 3",
   "language": "python",
   "name": "python3"
  },
  "language_info": {
   "codemirror_mode": {
    "name": "ipython",
    "version": 3
   },
   "file_extension": ".py",
   "mimetype": "text/x-python",
   "name": "python",
   "nbconvert_exporter": "python",
   "pygments_lexer": "ipython3",
   "version": "3.7.2"
  }
 },
 "nbformat": 4,
 "nbformat_minor": 2
}
