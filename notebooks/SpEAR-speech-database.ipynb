{
 "cells": [
  {
   "cell_type": "markdown",
   "metadata": {},
   "source": [
    "# SpEAR-speech-database\n",
    "\n",
    "In this notebook, we will download the data required and then extract the MFCC features from this dataset, and store it as a pytorch tensor file"
   ]
  },
  {
   "cell_type": "markdown",
   "metadata": {},
   "source": [
    "First, download the data files, extract the data and save the files to the directory"
   ]
  },
  {
   "cell_type": "code",
   "execution_count": 47,
   "metadata": {},
   "outputs": [
    {
     "name": "stdout",
     "output_type": "stream",
     "text": [
      "...-1606451200%, 15 MB, 1400 KB/s, 11 seconds passed... data unzipped\n",
      "zip file deleted\n"
     ]
    }
   ],
   "source": [
    "import sys\n",
    "import time\n",
    "import urllib\n",
    "import os\n",
    "import zipfile\n",
    "\n",
    "DATA_DIR = \"../data/raw/\"\n",
    "FILENAME = \"SpEAR\"\n",
    "\n",
    "\n",
    "def reporthook(count, block_size, total_size):\n",
    "    global start_time\n",
    "    if count == 0:\n",
    "        start_time = time.time()\n",
    "        return\n",
    "    duration = time.time() - start_time\n",
    "    progress_size = int(count * block_size)\n",
    "    speed = int(progress_size / (1024 * duration))\n",
    "    percent = int(count * block_size * 100 / total_size)\n",
    "    sys.stdout.write(\"\\r...%d%%, %d MB, %d KB/s, %d seconds passed\" %\n",
    "                    (percent, progress_size / (1024 * 1024), speed, duration))\n",
    "    sys.stdout.flush()\n",
    "\n",
    "f = urllib.request.urlretrieve(\"https://github.com/dingzeyuli/SpEAR-speech-database/archive/master.zip\", DATA_DIR + FILENAME + \".zip\", reporthook)\n",
    "\n",
    "\n",
    "\n",
    "with zipfile.ZipFile(f[0],\"r\") as zip_ref:\n",
    "    zip_ref.extractall(DATA_DIR)\n",
    "    zip_ref.close()\n",
    "    print(\"... data unzipped\")\n",
    "    \n",
    "\n",
    "os.remove(f[0])\n",
    "print(\"zip file deleted\")"
   ]
  },
  {
   "cell_type": "markdown",
   "metadata": {},
   "source": [
    "Then, extract the MFCC features from the data. \n",
    "See https://librosa.github.io/librosa/generated/librosa.feature.mfcc.html"
   ]
  },
  {
   "cell_type": "code",
   "execution_count": 69,
   "metadata": {},
   "outputs": [
    {
     "name": "stdout",
     "output_type": "stream",
     "text": [
      "Requirement already satisfied: librosa in /home/colm/anaconda3/lib/python3.6/site-packages (0.6.3)\n",
      "Requirement already satisfied: numba>=0.38.0 in /home/colm/anaconda3/lib/python3.6/site-packages (from librosa) (0.43.1)\n",
      "Requirement already satisfied: joblib>=0.12 in /home/colm/anaconda3/lib/python3.6/site-packages (from librosa) (0.13.2)\n",
      "Requirement already satisfied: resampy>=0.2.0 in /home/colm/anaconda3/lib/python3.6/site-packages (from librosa) (0.2.1)\n",
      "Requirement already satisfied: scikit-learn!=0.19.0,>=0.14.0 in /home/colm/anaconda3/lib/python3.6/site-packages (from librosa) (0.19.1)\n",
      "Requirement already satisfied: audioread>=2.0.0 in /home/colm/anaconda3/lib/python3.6/site-packages (from librosa) (2.1.6)\n",
      "Requirement already satisfied: decorator>=3.0.0 in /home/colm/anaconda3/lib/python3.6/site-packages (from librosa) (4.3.2)\n",
      "Requirement already satisfied: scipy>=1.0.0 in /home/colm/anaconda3/lib/python3.6/site-packages (from librosa) (1.1.0)\n",
      "Requirement already satisfied: six>=1.3 in /home/colm/.local/lib/python3.6/site-packages (from librosa) (1.12.0)\n",
      "Requirement already satisfied: numpy>=1.8.0 in /home/colm/anaconda3/lib/python3.6/site-packages (from librosa) (1.15.0)\n",
      "Requirement already satisfied: llvmlite>=0.28.0dev0 in /home/colm/anaconda3/lib/python3.6/site-packages (from numba>=0.38.0->librosa) (0.28.0)\n"
     ]
    }
   ],
   "source": [
    "!pip install librosa\n",
    "\n",
    "from os import listdir\n",
    "import librosa\n",
    "from librosa.feature import mfcc\n",
    "\n",
    "SpEAR_NAME = \"/SpEAR-speech-database-master/data/\"\n",
    "SpEAR_DIR = DATA_DIR + SpEAR_NAME\n",
    "TIMIT = \"TIMIT\"\n",
    "\n",
    "audio_file = listdir(SpEAR_DIR + \"TIMIT\")[0]\n",
    "\n",
    "\n",
    "y, sr = librosa.load(\"{}{}/{}\".format(SpEAR_DIR, TIMIT, audio_file))\n",
    "\n",
    "mfcc_features = mfcc(y)"
   ]
  },
  {
   "cell_type": "markdown",
   "metadata": {},
   "source": [
    "Saving the Features"
   ]
  },
  {
   "cell_type": "code",
   "execution_count": 76,
   "metadata": {},
   "outputs": [
    {
     "name": "stdout",
     "output_type": "stream",
     "text": [
      "Successfully created the directory ../data/processed/SpEAR-speech-database-master/data/TIMIT/ \n"
     ]
    }
   ],
   "source": [
    "import torch\n",
    "\n",
    "PROCESSED = \"../data/processed{}{}/\".format(SpEAR_NAME, TIMIT)\n",
    "\n",
    "mfcc_pt = torch.from_numpy(mfcc_features)\n",
    "\n",
    "try:  \n",
    "    os.makedirs(PROCESSED)\n",
    "except OSError:  \n",
    "    print (\"Creation of the directory %s failed\" % PROCESSED)\n",
    "else:  \n",
    "    print (\"Successfully created the directory %s \" % PROCESSED)\n",
    "\n",
    "torch.save(mfcc_pt, \"{}{}\".format(PROCESSED, audio_file.replace(\".wav\", \".pt\")))\n",
    "\n",
    "print(\"features saved\")"
   ]
  }
 ],
 "metadata": {
  "kernelspec": {
   "display_name": "Python 3",
   "language": "python",
   "name": "python3"
  },
  "language_info": {
   "codemirror_mode": {
    "name": "ipython",
    "version": 3
   },
   "file_extension": ".py",
   "mimetype": "text/x-python",
   "name": "python",
   "nbconvert_exporter": "python",
   "pygments_lexer": "ipython3",
   "version": "3.6.4"
  }
 },
 "nbformat": 4,
 "nbformat_minor": 2
}
