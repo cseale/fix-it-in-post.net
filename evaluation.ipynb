{
 "cells": [
  {
   "cell_type": "markdown",
   "metadata": {},
   "source": [
    "### Evaluation"
   ]
  },
  {
   "cell_type": "code",
   "execution_count": 1,
   "metadata": {},
   "outputs": [],
   "source": [
    "import os\n",
    "from utils.metrics import Metrics\n",
    "import utils.model_util as mu\n",
    "import utils.synthesis_util as su"
   ]
  },
  {
   "cell_type": "code",
   "execution_count": 7,
   "metadata": {},
   "outputs": [
    {
     "name": "stdout",
     "output_type": "stream",
     "text": [
      "500\n"
     ]
    }
   ],
   "source": [
    "audio_files = su.load_files()\n",
    "\n",
    "test_idx = su.get_testset_indices_gab(500)\n",
    "print(len(set(test_idx)))"
   ]
  },
  {
   "cell_type": "code",
   "execution_count": 3,
   "metadata": {},
   "outputs": [
    {
     "name": "stdout",
     "output_type": "stream",
     "text": [
      "['Convolutional_deep', 'Convolutional_deep_time', 'Convolutional_shallow', 'Convolutional_shallow_time', 'FullyConnected_shallow']\n"
     ]
    }
   ],
   "source": [
    "milestone_update = \"./reports/milestone_update/\"\n",
    "model_names = os.listdir(milestone_update)\n",
    "print(model_names)\n",
    "model = None\n",
    "\n",
    "results = {}"
   ]
  },
  {
   "cell_type": "code",
   "execution_count": null,
   "metadata": {},
   "outputs": [
    {
     "name": "stdout",
     "output_type": "stream",
     "text": [
      "\n",
      "\n",
      "\n",
      "Convolutional_deep\n",
      "Computing... 0.0%\n",
      "Computing... 2.0%\n",
      "Computing... 4.0%\n",
      "Computing... 6.0%\n",
      "Computing... 8.0%\n"
     ]
    }
   ],
   "source": [
    "for n in model_names:\n",
    "    print(\"\\n\\n\")\n",
    "    print(n)\n",
    "        \n",
    "        \n",
    "    if n == \"Convolutional_deep_time\":\n",
    "        print(\"Skipping. \\n\\n\")\n",
    "        continue\n",
    "        \n",
    "\n",
    "    t = None\n",
    "    \n",
    "    if n.startswith(\"Convolutional\"):\n",
    "        t = n.replace(\"Convolutional\", \"conv\")\n",
    "    elif n.startswith(\"FullyDeep\"):\n",
    "        pass\n",
    "    elif n.startswith(\"Fully\"):\n",
    "        t = \"fc\"\n",
    "\n",
    "    \n",
    "    if t == None:\n",
    "        raise Exception(\"no type defined\")\n",
    "        \n",
    "    model = mu.load_model(n_features=129,n_segments=8,model_to_test=milestone_update + n, type=t)\n",
    "    results[n] = Metrics.aggregate_metric_check(audio_files, model, indices=test_idx)"
   ]
  },
  {
   "cell_type": "code",
   "execution_count": null,
   "metadata": {},
   "outputs": [],
   "source": [
    "for key in results.keys():\n",
    "    mean_pesq = results[key][\"pesq\"][\"denoised\"][0]\n",
    "    std_pesq = results[key][\"pesq\"][\"denoised\"][1]\n",
    "    pesq_result = key + \": \" + \"Mean, Std change in PESC: \" + str(mean_pesq) + \", \" + str(std_pesq)\n",
    "    print(pesq_result)\n",
    "\n",
    "print(\"\\n\\n\")\n",
    "\n",
    "\n",
    "for key in results.keys():\n",
    "    mean_snr = results[key][\"snr\"][\"denoised\"][0]\n",
    "    std_snr = results[key][\"snr\"][\"denoised\"][1]\n",
    "    snr_result = key + \": \" + \"Mean, Std change in SNR: \" + str(mean_snr) + \", \" + str(std_snr)\n",
    "    print(snr_result)"
   ]
  },
  {
   "cell_type": "code",
   "execution_count": null,
   "metadata": {},
   "outputs": [],
   "source": []
  }
 ],
 "metadata": {
  "kernelspec": {
   "display_name": "Python 3",
   "language": "python",
   "name": "python3"
  },
  "language_info": {
   "codemirror_mode": {
    "name": "ipython",
    "version": 3
   },
   "file_extension": ".py",
   "mimetype": "text/x-python",
   "name": "python",
   "nbconvert_exporter": "python",
   "pygments_lexer": "ipython3",
   "version": "3.7.0"
  }
 },
 "nbformat": 4,
 "nbformat_minor": 2
}
