{
 "cells": [
  {
   "cell_type": "markdown",
   "metadata": {},
   "source": [
    "### Evaluation"
   ]
  },
  {
   "cell_type": "code",
   "execution_count": 4,
   "metadata": {},
   "outputs": [],
   "source": [
    "import os\n",
    "from utils.metrics import Metrics\n",
    "import utils.model_util as mu\n",
    "import utils.synthesis_util as su"
   ]
  },
  {
   "cell_type": "code",
   "execution_count": 5,
   "metadata": {},
   "outputs": [
    {
     "name": "stdout",
     "output_type": "stream",
     "text": [
      "[8263, 8291, 8215, 8274, 8215]\n"
     ]
    }
   ],
   "source": [
    "audio_files = su.load_files()\n",
    "\n",
    "test_idx = su.get_testset_indices(N = 5)\n",
    "print(test_idx)"
   ]
  },
  {
   "cell_type": "code",
   "execution_count": 6,
   "metadata": {},
   "outputs": [
    {
     "name": "stdout",
     "output_type": "stream",
     "text": [
      "['Convolutional_deep', 'Convolutional_deep_time', 'Convolutional_shallow', 'Convolutional_shallow_time', 'FullyConnected_shallow']\n"
     ]
    }
   ],
   "source": [
    "milestone_update = \"./reports/milestone_update/\"\n",
    "model_names = os.listdir(milestone_update)\n",
    "print(model_names)\n",
    "model = None\n",
    "\n",
    "results = {}"
   ]
  },
  {
   "cell_type": "code",
   "execution_count": null,
   "metadata": {},
   "outputs": [
    {
     "name": "stdout",
     "output_type": "stream",
     "text": [
      "['Convolutional_deep', 'Convolutional_deep_time', 'Convolutional_shallow', 'Convolutional_shallow_time']\n",
      "Computing... 0.0%\n",
      "Computing... 0.0%\n"
     ]
    }
   ],
   "source": [
    "\n",
    "\n",
    "for n in model_names:\n",
    "    t = None\n",
    "    \n",
    "    if n.startswith(\"Convolutional\"):\n",
    "        t = n.replace(\"Convolutional\", \"conv\")\n",
    "    elif n.startswith(\"Fully\"):\n",
    "        t = \"fc\"\n",
    "    elif n.startswith(\"FullyDeep\"):\n",
    "        t = \"fc\"\n",
    "    \n",
    "    if t == None:\n",
    "        raise Exception(\"no type defined\")\n",
    "        \n",
    "    model = mu.load_model(n_features=129,n_segments=8,model_to_test=milestone_update + n, type=t)\n",
    "    results[n] = Metrics.aggregate_metric_check(audio_files, model, indices=test_idx)"
   ]
  },
  {
   "cell_type": "code",
   "execution_count": 22,
   "metadata": {},
   "outputs": [
    {
     "name": "stdout",
     "output_type": "stream",
     "text": [
      "Convolutional_shallow: Mean, Std change in PESC: 1.6709829211235045, 0.09369498770218314\n",
      "Convolutional_deep: Mean, Std change in PESC: 1.6526965141296386, 0.08240372057525518\n",
      "Convolutional_deep_time: Mean, Std change in PESC: 1.664812397956848, 0.08317841297663817\n",
      "Convolutional_shallow: Mean, Std change in SNR: 34.328292546718195, 2.9099704429136093\n",
      "Convolutional_deep: Mean, Std change in SNR: 32.93142387118597, 2.5728075865662046\n",
      "Convolutional_deep_time: Mean, Std change in SNR: 32.88324876705133, 1.9645315335981226\n"
     ]
    }
   ],
   "source": [
    "for key in results.keys():\n",
    "    mean_pesq = results[key][\"pesq\"][\"denoised\"][0]\n",
    "    std_pesq = results[key][\"pesq\"][\"denoised\"][1]\n",
    "    pesq_result = key + \": \" + \"Mean, Std change in PESC: \" + str(mean_pesq) + \", \" + str(std_pesq)\n",
    "    print(pesq_result)\n",
    "\n",
    "for key in results.keys():\n",
    "    mean_snr = results[key][\"snr\"][\"denoised\"][0]\n",
    "    std_snr = results[key][\"snr\"][\"denoised\"][1]\n",
    "    snr_result = key + \": \" + \"Mean, Std change in SNR: \" + str(mean_snr) + \", \" + str(std_snr)\n",
    "    print(snr_result)"
   ]
  },
  {
   "cell_type": "code",
   "execution_count": null,
   "metadata": {},
   "outputs": [],
   "source": []
  }
 ],
 "metadata": {
  "kernelspec": {
   "display_name": "Python 3",
   "language": "python",
   "name": "python3"
  },
  "language_info": {
   "codemirror_mode": {
    "name": "ipython",
    "version": 3
   },
   "file_extension": ".py",
   "mimetype": "text/x-python",
   "name": "python",
   "nbconvert_exporter": "python",
   "pygments_lexer": "ipython3",
   "version": "3.7.0"
  }
 },
 "nbformat": 4,
 "nbformat_minor": 2
}
