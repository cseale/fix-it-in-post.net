{
 "cells": [
  {
   "cell_type": "markdown",
   "metadata": {},
   "source": [
    "### Evaluation"
   ]
  },
  {
   "cell_type": "code",
   "execution_count": 1,
   "metadata": {},
   "outputs": [],
   "source": [
    "import os\n",
    "from utils.metrics import Metrics\n",
    "import utils.model_util as mu\n",
    "import utils.synthesis_util as su"
   ]
  },
  {
   "cell_type": "code",
   "execution_count": 20,
   "metadata": {},
   "outputs": [
    {
     "name": "stdout",
     "output_type": "stream",
     "text": [
      "[8245, 8250, 8235, 8195, 8269, 8234, 8288, 8218, 8192, 8261, 8195, 8205, 8236, 8278, 8256, 8229, 8280, 8228, 8203, 8193, 8196, 8290, 8249, 8248, 8274, 8204, 8275, 8211, 8278, 8262, 8214, 8254, 8219, 8241, 8254, 8256, 8239, 8279, 8250, 8229, 8206, 8209, 8275, 8228, 8249, 8210, 8217, 8282, 8204, 8258, 8225, 8195, 8249, 8206, 8192, 8279, 8217, 8266, 8228, 8244, 8245, 8265, 8240, 8261, 8288, 8272, 8276, 8232, 8220, 8236, 8223, 8267, 8272, 8212, 8252, 8212, 8221, 8258, 8238, 8200, 8244, 8217, 8249, 8262, 8235, 8289, 8202, 8216, 8260, 8245, 8237, 8215, 8224, 8205, 8270, 8218, 8260, 8200, 8228, 8237]\n"
     ]
    }
   ],
   "source": [
    "audio_files = su.load_files()\n",
    "\n",
    "test_idx = su.get_testset_indices(N = 100)\n",
    "print(test_idx)"
   ]
  },
  {
   "cell_type": "code",
   "execution_count": 6,
   "metadata": {},
   "outputs": [
    {
     "name": "stdout",
     "output_type": "stream",
     "text": [
      "Computing... 0.0%\n",
      "Computing... 0.0%\n",
      "Computing... 0.0%\n"
     ]
    }
   ],
   "source": [
    "milestone_update = \"./reports/milestone_update/\"\n",
    "model_names = os.listdir(milestone_update)\n",
    "model = None\n",
    "\n",
    "results = {}\n",
    "\n",
    "for n in model_names:\n",
    "    t = None\n",
    "    \n",
    "    if n.startswith(\"Convolutional\"):\n",
    "        t = n.replace(\"Convolutional\", \"conv\")\n",
    "    elif n.startswith(\"Fully\"):\n",
    "        t = \"fc\"\n",
    "    \n",
    "    if t == None:\n",
    "        raise Exception(\"no type defined\")\n",
    "        \n",
    "    model = mu.load_model(n_features=129,n_segments=8,model_to_test=milestone_update + n, type=t)\n",
    "    results[n]Metrics.aggregate_metric_check(audio_files, model, indices=test_idx)"
   ]
  },
  {
   "cell_type": "code",
   "execution_count": 18,
   "metadata": {},
   "outputs": [
    {
     "name": "stdout",
     "output_type": "stream",
     "text": [
      "Convolutional_shallow: Mean, Std change in PESC: 0.07570391893386841, 0.009711095940802675\n",
      "Convolutional_shallow: Mean, Std change in SNR: 1.8278099888444572, 0.23925937527635321\n",
      "Convolutional_deep: Mean, Std change in PESC: 0.06060212850570679, -0.005029432664554537\n",
      "Convolutional_deep: Mean, Std change in SNR: -0.211614407423788, -0.4059377662118706\n",
      "Convolutional_deep_time: Mean, Std change in PESC: 0.06542129516601558, -0.012745407617940102\n",
      "Convolutional_deep_time: Mean, Std change in SNR: 2.5893424863966743, -0.4629664175949042\n"
     ]
    }
   ],
   "source": [
    "for key in results.keys():\n",
    "    mean_pesq = results[key][\"pesq\"][\"denoised\"][0] - results[key][\"pesq\"][\"noise\"][0]\n",
    "    std_pesq = results[key][\"pesq\"][\"denoised\"][1] - results[key][\"pesq\"][\"noise\"][1]\n",
    "    pesq_result = key + \": \" + \"Mean, Std change in PESC: \" + str(mean_pesq) + \", \" + str(std_pesq)\n",
    "    \n",
    "    mean_snr = results[key][\"snr\"][\"denoised\"][0] - results[key][\"snr\"][\"noise\"][0]\n",
    "    std_snr = results[key][\"snr\"][\"denoised\"][1] - results[key][\"snr\"][\"noise\"][1]\n",
    "    snr_result = key + \": \" + \"Mean, Std change in SNR: \" + str(mean_snr) + \", \" + str(std_snr)\n",
    "    print(pesq_result)\n",
    "    print(snr_result)"
   ]
  },
  {
   "cell_type": "code",
   "execution_count": null,
   "metadata": {},
   "outputs": [],
   "source": []
  }
 ],
 "metadata": {
  "kernelspec": {
   "display_name": "Python 3",
   "language": "python",
   "name": "python3"
  },
  "language_info": {
   "codemirror_mode": {
    "name": "ipython",
    "version": 3
   },
   "file_extension": ".py",
   "mimetype": "text/x-python",
   "name": "python",
   "nbconvert_exporter": "python",
   "pygments_lexer": "ipython3",
   "version": "3.6.4"
  }
 },
 "nbformat": 4,
 "nbformat_minor": 2
}
